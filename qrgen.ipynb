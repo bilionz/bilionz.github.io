{
 "cells": [
  {
   "cell_type": "code",
   "execution_count": 1,
   "metadata": {},
   "outputs": [],
   "source": [
    "# Step 1: Install the necessary libraries\n",
    "# !pip install qrcode[pil]\n",
    "\n",
    "# Step 2: Import the necessary modules\n",
    "import qrcode\n",
    "from PIL import Image\n",
    "\n",
    "# Step 3: Define a function to generate a QR code with high fault tolerance\n",
    "def generate_qr_code(data, filename):\n",
    "    # Create a QRCode object with high error correction\n",
    "    qr = qrcode.QRCode(\n",
    "        version=1,  # Controls the size of the QR Code\n",
    "        error_correction=qrcode.constants.ERROR_CORRECT_H,  # High fault tolerance (30%)\n",
    "        box_size=10,  # Size of each box in the QR code grid\n",
    "        border=4,  # Thickness of the border (minimum is 4)\n",
    "    )\n",
    "\n",
    "    # Add data to the QR code\n",
    "    qr.add_data(data)\n",
    "    qr.make(fit=True)\n",
    "\n",
    "    # Create an image from the QR Code instance\n",
    "    img = qr.make_image(fill_color=\"black\", back_color=\"white\")\n",
    "\n",
    "    # Save the image to a file\n",
    "    img.save(filename)\n",
    "\n",
    "    # Display the image in the Jupyter Notebook\n",
    "    return img\n",
    "\n",
    "# Step 4: Use the functio\n"
   ]
  },
  {
   "cell_type": "code",
   "execution_count": 6,
   "metadata": {},
   "outputs": [],
   "source": [
    "urls = [\n",
    "    \"https://bilionz-github-io.onrender.com/?riddleId=start\",\n",
    "    \"https://bilionz-github-io.onrender.com/?riddleId=meg_molos\",\n",
    "    \"https://bilionz-github-io.onrender.com/?riddleId=pigad\",\n",
    "    \"https://bilionz-github-io.onrender.com/?riddleId=torent\",\n",
    "    \"https://bilionz-github-io.onrender.com/?riddleId=gy\",\n",
    "    \"https://bilionz-github-io.onrender.com/?riddleId=kinder\",\n",
    "    \"https://bilionz-github-io.onrender.com/?riddleId=olymp\",\n",
    "    \"https://bilionz-github-io.onrender.com/?riddleId=ebike\",\n",
    "    \"https://bilionz-github-io.onrender.com/?riddleId=tserts\",\n",
    "    \"https://bilionz-github-io.onrender.com/?riddleId=beach_org\",\n",
    "    \"https://bilionz-github-io.onrender.com/?riddleId=mik_molos\",\n",
    "    \"https://bilionz-github-io.onrender.com/?riddleId=mati\",\n",
    "    \"https://bilionz-github-io.onrender.com/?riddleId=sters\",\n",
    "    \"https://bilionz-github-io.onrender.com/?riddleId=buspark\"\n",
    "]\n"
   ]
  },
  {
   "cell_type": "code",
   "execution_count": 2,
   "metadata": {},
   "outputs": [],
   "source": [
    "urls = [\n",
    "    \"https://bilionz-github-io.onrender.com/riddle_s?auto_player=item1\",\n",
    "    \"https://bilionz-github-io.onrender.com/riddle_s?auto_player=item2\",\n",
    "    \"https://bilionz-github-io.onrender.com/riddle_s?auto_player=item3\",\n",
    "    \"https://bilionz-github-io.onrender.com/riddle_s?auto_player=item4\",\n",
    "    \"https://bilionz-github-io.onrender.com/riddle_s?auto_player=item5\",\n",
    "    \"https://bilionz-github-io.onrender.com/riddle_s?auto_player=item6\",\n",
    "    \"https://bilionz-github-io.onrender.com/riddle_s?auto_player=item7\",\n",
    "    \"https://bilionz-github-io.onrender.com/riddle_s?auto_player=item8\"\n",
    "]"
   ]
  },
  {
   "cell_type": "code",
   "execution_count": 7,
   "metadata": {},
   "outputs": [],
   "source": [
    "\n",
    "data_to_encode = \"•\thttps://bilionz-github-io.onrender.com/riddle_s/\"\n",
    "# save to desktop with name after the riddleid\n",
    "\n",
    "# qr_image = generate_qr_code(data_to_encode, \"high_fault_tolerance_qr.png\")\n",
    "qr_image = generate_qr_code(data_to_encode, \"infect.png\")\n",
    "\n",
    "# Display the generated QR code\n",
    "qr_image.show()"
   ]
  },
  {
   "cell_type": "code",
   "execution_count": 3,
   "metadata": {},
   "outputs": [],
   "source": [
    "for url in urls:\n",
    "    data_to_encode = url\n",
    "    qr_image = generate_qr_code(data_to_encode, f\"riddleId_{url.split('=')[-1]}.png\")\n",
    "    qr_image.show()"
   ]
  },
  {
   "cell_type": "code",
   "execution_count": null,
   "metadata": {},
   "outputs": [],
   "source": []
  }
 ],
 "metadata": {
  "kernelspec": {
   "display_name": "Python 3",
   "language": "python",
   "name": "python3"
  },
  "language_info": {
   "codemirror_mode": {
    "name": "ipython",
    "version": 3
   },
   "file_extension": ".py",
   "mimetype": "text/x-python",
   "name": "python",
   "nbconvert_exporter": "python",
   "pygments_lexer": "ipython3",
   "version": "3.11.9"
  }
 },
 "nbformat": 4,
 "nbformat_minor": 2
}
