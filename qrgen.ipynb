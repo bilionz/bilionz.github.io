{
 "cells": [
  {
   "cell_type": "code",
   "execution_count": 1,
   "metadata": {},
   "outputs": [
    {
     "name": "stdout",
     "output_type": "stream",
     "text": [
      "Collecting qrcode[pil]\n",
      "  Downloading qrcode-7.4.2-py3-none-any.whl.metadata (17 kB)\n",
      "Requirement already satisfied: typing-extensions in c:\\users\\vnl\\appdata\\local\\packages\\pythonsoftwarefoundation.python.3.11_qbz5n2kfra8p0\\localcache\\local-packages\\python311\\site-packages (from qrcode[pil]) (4.12.0)\n",
      "Collecting pypng (from qrcode[pil])\n",
      "  Downloading pypng-0.20220715.0-py3-none-any.whl.metadata (13 kB)\n",
      "Requirement already satisfied: colorama in c:\\users\\vnl\\appdata\\local\\packages\\pythonsoftwarefoundation.python.3.11_qbz5n2kfra8p0\\localcache\\local-packages\\python311\\site-packages (from qrcode[pil]) (0.4.6)\n",
      "Requirement already satisfied: pillow>=9.1.0 in c:\\users\\vnl\\appdata\\local\\packages\\pythonsoftwarefoundation.python.3.11_qbz5n2kfra8p0\\localcache\\local-packages\\python311\\site-packages (from qrcode[pil]) (10.4.0)\n",
      "Downloading pypng-0.20220715.0-py3-none-any.whl (58 kB)\n",
      "   ---------------------------------------- 0.0/58.1 kB ? eta -:--:--\n",
      "   ---------------------------------------- 58.1/58.1 kB ? eta 0:00:00\n",
      "Downloading qrcode-7.4.2-py3-none-any.whl (46 kB)\n",
      "   ---------------------------------------- 0.0/46.2 kB ? eta -:--:--\n",
      "   ---------------------------------------- 46.2/46.2 kB ? eta 0:00:00\n",
      "Installing collected packages: pypng, qrcode\n",
      "Successfully installed pypng-0.20220715.0 qrcode-7.4.2\n"
     ]
    },
    {
     "name": "stderr",
     "output_type": "stream",
     "text": [
      "\n",
      "[notice] A new release of pip is available: 24.0 -> 24.2\n",
      "[notice] To update, run: C:\\Users\\vnl\\AppData\\Local\\Microsoft\\WindowsApps\\PythonSoftwareFoundation.Python.3.11_qbz5n2kfra8p0\\python.exe -m pip install --upgrade pip\n"
     ]
    }
   ],
   "source": [
    "# Step 1: Install the necessary libraries\n",
    "!pip install qrcode[pil]\n",
    "\n",
    "# Step 2: Import the necessary modules\n",
    "import qrcode\n",
    "from PIL import Image\n",
    "\n",
    "# Step 3: Define a function to generate a QR code with high fault tolerance\n",
    "def generate_qr_code(data, filename):\n",
    "    # Create a QRCode object with high error correction\n",
    "    qr = qrcode.QRCode(\n",
    "        version=1,  # Controls the size of the QR Code\n",
    "        error_correction=qrcode.constants.ERROR_CORRECT_H,  # High fault tolerance (30%)\n",
    "        box_size=10,  # Size of each box in the QR code grid\n",
    "        border=4,  # Thickness of the border (minimum is 4)\n",
    "    )\n",
    "\n",
    "    # Add data to the QR code\n",
    "    qr.add_data(data)\n",
    "    qr.make(fit=True)\n",
    "\n",
    "    # Create an image from the QR Code instance\n",
    "    img = qr.make_image(fill_color=\"black\", back_color=\"white\")\n",
    "\n",
    "    # Save the image to a file\n",
    "    img.save(filename)\n",
    "\n",
    "    # Display the image in the Jupyter Notebook\n",
    "    return img\n",
    "\n",
    "# Step 4: Use the functio\n"
   ]
  },
  {
   "cell_type": "code",
   "execution_count": 2,
   "metadata": {},
   "outputs": [],
   "source": [
    "\n",
    "data_to_encode = \"https://www.example.com\"\n",
    "qr_image = generate_qr_code(data_to_encode, \"high_fault_tolerance_qr.png\")\n",
    "\n",
    "# Display the generated QR code\n",
    "qr_image.show()"
   ]
  }
 ],
 "metadata": {
  "kernelspec": {
   "display_name": "Python 3",
   "language": "python",
   "name": "python3"
  },
  "language_info": {
   "codemirror_mode": {
    "name": "ipython",
    "version": 3
   },
   "file_extension": ".py",
   "mimetype": "text/x-python",
   "name": "python",
   "nbconvert_exporter": "python",
   "pygments_lexer": "ipython3",
   "version": "3.11.9"
  }
 },
 "nbformat": 4,
 "nbformat_minor": 2
}
